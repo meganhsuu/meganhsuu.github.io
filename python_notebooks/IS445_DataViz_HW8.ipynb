{
  "cells": [
    {
      "cell_type": "markdown",
      "source": [
        "# **IS445_DataViz_HW8**"
      ],
      "metadata": {
        "id": "wQeRIcPzUJ8_"
      }
    },
    {
      "cell_type": "code",
      "execution_count": null,
      "metadata": {
        "id": "I53njmWuUEi5"
      },
      "outputs": [],
      "source": [
        "import altair as alt\n",
        "import pandas as pd"
      ]
    },
    {
      "cell_type": "code",
      "execution_count": null,
      "metadata": {
        "id": "OogzR74JUEi6"
      },
      "outputs": [],
      "source": [
        "building_url = 'https://raw.githubusercontent.com/UIUC-iSchool-DataViz/is445_data/main/building_inventory.csv'\n",
        "building = pd.read_csv(building_url)"
      ]
    },
    {
      "cell_type": "code",
      "execution_count": null,
      "metadata": {
        "id": "lCla4JiEUEi7"
      },
      "outputs": [],
      "source": [
        "brush = alt.selection_interval(encodings=['x', 'y'])"
      ]
    },
    {
      "cell_type": "code",
      "execution_count": null,
      "metadata": {
        "id": "MIBtP7kZUEi7",
        "outputId": "6a651d9c-fa02-461a-f658-243684eeb01d"
      },
      "outputs": [
        {
          "data": {
            "text/html": [
              "\n",
              "<style>\n",
              "  #altair-viz-1111dd83f70a42d581c8f454238c3864.vega-embed {\n",
              "    width: 100%;\n",
              "    display: flex;\n",
              "  }\n",
              "\n",
              "  #altair-viz-1111dd83f70a42d581c8f454238c3864.vega-embed details,\n",
              "  #altair-viz-1111dd83f70a42d581c8f454238c3864.vega-embed details summary {\n",
              "    position: relative;\n",
              "  }\n",
              "</style>\n",
              "<div id=\"altair-viz-1111dd83f70a42d581c8f454238c3864\"></div>\n",
              "<script type=\"text/javascript\">\n",
              "  var VEGA_DEBUG = (typeof VEGA_DEBUG == \"undefined\") ? {} : VEGA_DEBUG;\n",
              "  (function(spec, embedOpt){\n",
              "    let outputDiv = document.currentScript.previousElementSibling;\n",
              "    if (outputDiv.id !== \"altair-viz-1111dd83f70a42d581c8f454238c3864\") {\n",
              "      outputDiv = document.getElementById(\"altair-viz-1111dd83f70a42d581c8f454238c3864\");\n",
              "    }\n",
              "    const paths = {\n",
              "      \"vega\": \"https://cdn.jsdelivr.net/npm/vega@5?noext\",\n",
              "      \"vega-lib\": \"https://cdn.jsdelivr.net/npm/vega-lib?noext\",\n",
              "      \"vega-lite\": \"https://cdn.jsdelivr.net/npm/vega-lite@5.8.0?noext\",\n",
              "      \"vega-embed\": \"https://cdn.jsdelivr.net/npm/vega-embed@6?noext\",\n",
              "    };\n",
              "\n",
              "    function maybeLoadScript(lib, version) {\n",
              "      var key = `${lib.replace(\"-\", \"\")}_version`;\n",
              "      return (VEGA_DEBUG[key] == version) ?\n",
              "        Promise.resolve(paths[lib]) :\n",
              "        new Promise(function(resolve, reject) {\n",
              "          var s = document.createElement('script');\n",
              "          document.getElementsByTagName(\"head\")[0].appendChild(s);\n",
              "          s.async = true;\n",
              "          s.onload = () => {\n",
              "            VEGA_DEBUG[key] = version;\n",
              "            return resolve(paths[lib]);\n",
              "          };\n",
              "          s.onerror = () => reject(`Error loading script: ${paths[lib]}`);\n",
              "          s.src = paths[lib];\n",
              "        });\n",
              "    }\n",
              "\n",
              "    function showError(err) {\n",
              "      outputDiv.innerHTML = `<div class=\"error\" style=\"color:red;\">${err}</div>`;\n",
              "      throw err;\n",
              "    }\n",
              "\n",
              "    function displayChart(vegaEmbed) {\n",
              "      vegaEmbed(outputDiv, spec, embedOpt)\n",
              "        .catch(err => showError(`Javascript Error: ${err.message}<br>This usually means there's a typo in your chart specification. See the javascript console for the full traceback.`));\n",
              "    }\n",
              "\n",
              "    if(typeof define === \"function\" && define.amd) {\n",
              "      requirejs.config({paths});\n",
              "      require([\"vega-embed\"], displayChart, err => showError(`Error loading script: ${err.message}`));\n",
              "    } else {\n",
              "      maybeLoadScript(\"vega\", \"5\")\n",
              "        .then(() => maybeLoadScript(\"vega-lite\", \"5.8.0\"))\n",
              "        .then(() => maybeLoadScript(\"vega-embed\", \"6\"))\n",
              "        .catch(showError)\n",
              "        .then(() => displayChart(vegaEmbed));\n",
              "    }\n",
              "  })({\"config\": {\"view\": {\"continuousWidth\": 300, \"continuousHeight\": 300}, \"axis\": {\"grid\": true}}, \"data\": {\"url\": \"https://raw.githubusercontent.com/UIUC-iSchool-DataViz/is445_data/main/building_inventory.csv\"}, \"mark\": {\"type\": \"circle\", \"size\": 60}, \"encoding\": {\"color\": {\"field\": \"Bldg Status\", \"type\": \"nominal\"}, \"tooltip\": [{\"field\": \"Bldg Status\", \"type\": \"nominal\"}, {\"field\": \"Year Acquired\", \"type\": \"temporal\"}, {\"field\": \"Square Footage\", \"type\": \"quantitative\"}], \"x\": {\"field\": \"Year Acquired\", \"type\": \"temporal\"}, \"y\": {\"field\": \"Square Footage\", \"type\": \"quantitative\"}}, \"height\": 400, \"params\": [{\"name\": \"param_1\", \"select\": {\"type\": \"interval\", \"encodings\": [\"x\", \"y\"]}}, {\"name\": \"param_2\", \"select\": {\"type\": \"point\", \"fields\": [\"Bldg Status\"]}, \"bind\": {\"input\": \"select\", \"options\": [\"In Use\", \"Abandon\", \"In Progress\"], \"name\": \"Building Status \"}}, {\"name\": \"param_3\", \"select\": {\"type\": \"interval\", \"encodings\": [\"x\", \"y\"]}, \"bind\": \"scales\"}], \"transform\": [{\"filter\": {\"param\": \"param_2\"}}], \"width\": 500, \"$schema\": \"https://vega.github.io/schema/vega-lite/v5.8.0.json\"}, {\"mode\": \"vega-lite\"});\n",
              "</script>"
            ],
            "text/plain": [
              "alt.Chart(...)"
            ]
          },
          "execution_count": 4,
          "metadata": {},
          "output_type": "execute_result"
        }
      ],
      "source": [
        "###Viz1\n",
        "dropdown = alt.binding_select(options=building['Bldg Status'].unique().tolist(), name='Building Status ')\n",
        "selection_bldgstatus = alt.selection_point(fields=['Bldg Status'], bind=dropdown)\n",
        "\n",
        "\n",
        "chart1 = alt.Chart(building_url).mark_circle(size=60).encode(\n",
        "    alt.X('Year Acquired:T'),\n",
        "    alt.Y('Square Footage:Q'),\n",
        "    alt.Color('Bldg Status:N'),\n",
        "    tooltip=['Bldg Status:N', 'Year Acquired:T', 'Square Footage:Q']\n",
        ").properties(\n",
        "    height=400,\n",
        "    width=500\n",
        ").transform_filter(\n",
        "    selection_bldgstatus\n",
        ").add_params(\n",
        "    brush, selection_bldgstatus\n",
        ").configure_axis(grid=True).interactive()\n",
        "\n",
        "\n",
        "chart1"
      ]
    },
    {
      "cell_type": "markdown",
      "metadata": {
        "id": "lXNPuR00UEi8"
      },
      "source": [
        "This scatter plot visualizes the relationship between \"Year Acquired\" and \"Square Footage\" for different buildings in the dataset. Each data point represents a building and is color-coded based on its \"Building Status.\" The scatter plot allows users to explore how the year of acquisition and square footage vary across different building statuses.\n",
        "\n",
        "Design Choices:\n",
        "1. Encoding Types:\n",
        "The X-axis encodes \"Year Acquired\" as a time variable to show the distribution of acquisition years.\n",
        "\n",
        "The Y-axis encodes \"Square Footage\" as a quantitative variable to represent the size of the buildings.\n",
        "\n",
        "The color of the data points is encoded by \"Building Status\" using a nominal scale to distinguish different building statuses.\n",
        "\n",
        "Tooltip information includes \"Building Status,\" \"Year Acquired,\" and \"Square Footage\" to provide details on each data point when hovering.\n",
        "\n",
        "2. Color Scheme:\n",
        "The color scheme is based on a nominal scale, where each unique building status is assigned a different color. This choice helps distinguish different building statuses effectively.\n",
        "\n",
        "3. Data Transformation:\n",
        "The transform_filter method is used to filter the data based on the selected building status, which allows users to interactively explore data for a specific building status.\n",
        "\n",
        "4. Interactivity:\n",
        "The dropdown menu is provided to select a specific building status. When a status is selected from the dropdown, the plot displays only the data points corresponding to that status.\n"
      ]
    },
    {
      "cell_type": "code",
      "execution_count": null,
      "metadata": {
        "id": "KADb5sO6UEi8",
        "outputId": "bce68877-1af5-4cd6-aef2-fe951e64b168"
      },
      "outputs": [
        {
          "data": {
            "text/html": [
              "\n",
              "<style>\n",
              "  #altair-viz-9635bca92a30425e88d44b5ec3c18193.vega-embed {\n",
              "    width: 100%;\n",
              "    display: flex;\n",
              "  }\n",
              "\n",
              "  #altair-viz-9635bca92a30425e88d44b5ec3c18193.vega-embed details,\n",
              "  #altair-viz-9635bca92a30425e88d44b5ec3c18193.vega-embed details summary {\n",
              "    position: relative;\n",
              "  }\n",
              "</style>\n",
              "<div id=\"altair-viz-9635bca92a30425e88d44b5ec3c18193\"></div>\n",
              "<script type=\"text/javascript\">\n",
              "  var VEGA_DEBUG = (typeof VEGA_DEBUG == \"undefined\") ? {} : VEGA_DEBUG;\n",
              "  (function(spec, embedOpt){\n",
              "    let outputDiv = document.currentScript.previousElementSibling;\n",
              "    if (outputDiv.id !== \"altair-viz-9635bca92a30425e88d44b5ec3c18193\") {\n",
              "      outputDiv = document.getElementById(\"altair-viz-9635bca92a30425e88d44b5ec3c18193\");\n",
              "    }\n",
              "    const paths = {\n",
              "      \"vega\": \"https://cdn.jsdelivr.net/npm/vega@5?noext\",\n",
              "      \"vega-lib\": \"https://cdn.jsdelivr.net/npm/vega-lib?noext\",\n",
              "      \"vega-lite\": \"https://cdn.jsdelivr.net/npm/vega-lite@5.8.0?noext\",\n",
              "      \"vega-embed\": \"https://cdn.jsdelivr.net/npm/vega-embed@6?noext\",\n",
              "    };\n",
              "\n",
              "    function maybeLoadScript(lib, version) {\n",
              "      var key = `${lib.replace(\"-\", \"\")}_version`;\n",
              "      return (VEGA_DEBUG[key] == version) ?\n",
              "        Promise.resolve(paths[lib]) :\n",
              "        new Promise(function(resolve, reject) {\n",
              "          var s = document.createElement('script');\n",
              "          document.getElementsByTagName(\"head\")[0].appendChild(s);\n",
              "          s.async = true;\n",
              "          s.onload = () => {\n",
              "            VEGA_DEBUG[key] = version;\n",
              "            return resolve(paths[lib]);\n",
              "          };\n",
              "          s.onerror = () => reject(`Error loading script: ${paths[lib]}`);\n",
              "          s.src = paths[lib];\n",
              "        });\n",
              "    }\n",
              "\n",
              "    function showError(err) {\n",
              "      outputDiv.innerHTML = `<div class=\"error\" style=\"color:red;\">${err}</div>`;\n",
              "      throw err;\n",
              "    }\n",
              "\n",
              "    function displayChart(vegaEmbed) {\n",
              "      vegaEmbed(outputDiv, spec, embedOpt)\n",
              "        .catch(err => showError(`Javascript Error: ${err.message}<br>This usually means there's a typo in your chart specification. See the javascript console for the full traceback.`));\n",
              "    }\n",
              "\n",
              "    if(typeof define === \"function\" && define.amd) {\n",
              "      requirejs.config({paths});\n",
              "      require([\"vega-embed\"], displayChart, err => showError(`Error loading script: ${err.message}`));\n",
              "    } else {\n",
              "      maybeLoadScript(\"vega\", \"5\")\n",
              "        .then(() => maybeLoadScript(\"vega-lite\", \"5.8.0\"))\n",
              "        .then(() => maybeLoadScript(\"vega-embed\", \"6\"))\n",
              "        .catch(showError)\n",
              "        .then(() => displayChart(vegaEmbed));\n",
              "    }\n",
              "  })({\"config\": {\"view\": {\"continuousWidth\": 300, \"continuousHeight\": 300}}, \"data\": {\"url\": \"https://raw.githubusercontent.com/UIUC-iSchool-DataViz/is445_data/main/building_inventory.csv\"}, \"mark\": {\"type\": \"bar\"}, \"encoding\": {\"color\": {\"field\": \"Bldg Status\", \"legend\": {\"title\": \"Building Status\"}, \"type\": \"nominal\"}, \"tooltip\": [{\"aggregate\": \"count\", \"title\": \"Counts of Building\", \"type\": \"quantitative\"}, {\"field\": \"Bldg Status\", \"type\": \"nominal\"}], \"x\": {\"aggregate\": \"count\", \"axis\": {\"title\": \"Counts of Buildings\"}, \"type\": \"quantitative\"}, \"y\": {\"axis\": {\"title\": \"Agency Name\"}, \"field\": \"Agency Name\", \"type\": \"nominal\"}}, \"height\": 400, \"params\": [{\"name\": \"param_1\", \"select\": {\"type\": \"interval\", \"encodings\": [\"x\", \"y\"]}}], \"$schema\": \"https://vega.github.io/schema/vega-lite/v5.8.0.json\"}, {\"mode\": \"vega-lite\"});\n",
              "</script>"
            ],
            "text/plain": [
              "alt.Chart(...)"
            ]
          },
          "execution_count": 5,
          "metadata": {},
          "output_type": "execute_result"
        }
      ],
      "source": [
        "###Viz2\n",
        "\n",
        "chart2 = alt.Chart(building_url).mark_bar().encode(\n",
        "    x=alt.X('count()', axis=alt.Axis(title='Counts of Buildings')),\n",
        "    y=alt.Y('Agency Name:N', axis=alt.Axis(title='Agency Name')),\n",
        "    color=alt.Color('Bldg Status:N', legend=alt.Legend(title='Building Status')),\n",
        "    tooltip=[alt.Tooltip('count():Q', title='Counts of Building'), 'Bldg Status:N']\n",
        ").properties(\n",
        "    height=400\n",
        ").add_params(\n",
        "    brush\n",
        ")\n",
        "\n",
        "chart2"
      ]
    },
    {
      "cell_type": "markdown",
      "metadata": {
        "id": "g3fKyjEoUEi9"
      },
      "source": [
        "This bar chart visualizes the counts of buildings for different agencies, with each bar representing a specific agency. The bars are colored based on the 'Building Status' category, and a tooltip is included to display the count of buildings for each 'Building Status' within an agency when you hover over a bar.\n",
        "\n",
        "Design Choices:\n",
        "1. Encoding Types:\n",
        "The x-axis encodes the count of buildings, providing a visual representation of the number of buildings for each agency.\n",
        "\n",
        "The y-axis encodes the 'Agency Name,' categorizing the bars by the agency.\n",
        "\n",
        "The color of the bars is determined by the 'Building Status' variable. This helps distinguish the building status categories within each agency.\n",
        "\n",
        "The tooltip is used to display the count of buildings ('Counts of Building') and the 'Building Status' when hovering over a bar. The 'count()' function is applied to count the number of buildings for each agency and 'Building Status' category, which provides additional information on the distribution of building statuses within each agency.\n",
        "\n",
        "2. Color Scheme:\n",
        "The color scheme is applied to the 'Building Status' variable. Different building statuses are represented by distinct colors, which makes it easier to differentiate between them in the chart.\n",
        "\n",
        "3. Data Transformation:\n",
        "The chart directly counts the number of buildings with the differentiate of 'Building Status' category for each agency. No significant data transformations are in the code.\n",
        "\n",
        "Compare to Homework 7's Viz2, which only counted buildings by County, the new visualization focuses on counting buildings by agency and improves the chart by using different colors for building statuses, making them easier to distinguish. Tooltips are also added to show the count of buildings for each status within an agency, providing a clearer and more detailed representation of the data, and helping users explore building counts by agency and status."
      ]
    },
    {
      "cell_type": "code",
      "execution_count": null,
      "metadata": {
        "id": "nG6QyykxUEi9"
      },
      "outputs": [],
      "source": [
        "myJekyllDir='./'"
      ]
    },
    {
      "cell_type": "code",
      "execution_count": null,
      "metadata": {
        "id": "j68rLHPnUEi9"
      },
      "outputs": [],
      "source": [
        "chart1.properties(width='container').save(myJekyllDir+'chart1.json')"
      ]
    },
    {
      "cell_type": "code",
      "execution_count": null,
      "metadata": {
        "id": "LRovIya-UEi9"
      },
      "outputs": [],
      "source": [
        "chart2.properties(width='container').save(myJekyllDir+'chart2.json')"
      ]
    },
    {
      "cell_type": "code",
      "execution_count": null,
      "metadata": {
        "id": "t1ddZtstUEi9"
      },
      "outputs": [],
      "source": []
    }
  ],
  "metadata": {
    "kernelspec": {
      "display_name": "Python 3",
      "language": "python",
      "name": "python3"
    },
    "language_info": {
      "codemirror_mode": {
        "name": "ipython",
        "version": 3
      },
      "file_extension": ".py",
      "mimetype": "text/x-python",
      "name": "python",
      "nbconvert_exporter": "python",
      "pygments_lexer": "ipython3",
      "version": "3.8.6"
    },
    "colab": {
      "provenance": []
    }
  },
  "nbformat": 4,
  "nbformat_minor": 0
}